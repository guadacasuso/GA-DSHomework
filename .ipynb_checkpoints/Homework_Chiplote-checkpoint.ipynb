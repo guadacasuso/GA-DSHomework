{
 "cells": [
  {
   "cell_type": "markdown",
   "metadata": {},
   "source": [
    "# Homework Chiplote \n",
    "\n",
    "## Questions: \n",
    "\n",
    "- Look at the head and the tail of chipotle.tsv in the data subdirectory of this repo. Think for a minute about how the data is structured. What do you think each column means? What do you think each row means? Tell me! (If you're \n",
    "\n",
    "    **Commands:** head and tail, also Cat \n",
    "    \n",
    "    Each line is a stock line detail that represents an order line.\n",
    "    Each column contains info on the Order, Quantity, Detail and Price\n",
    "\n",
    "\n",
    "- How many orders do there appear to be?\n",
    "    \n",
    "    **Total:** 1834 \n",
    "   \n",
    "\n",
    "- How many lines are in this file?\n",
    "\n",
    "   **Command:** wc -l chipotle.tsv  \n",
    "   \n",
    "   **Total:** 4623 \n",
    "\n",
    "\n",
    "- Which burrito is more popular, steak or chicken?\n",
    "\n",
    "   **Command:** grep \"chicken burrito\"  -i chipotle.tsv | wc -l \n",
    "  \n",
    "   **Total:** 553 \n",
    "   \n",
    "   **Command:** grep \"steak burrito\"  -i chipotle.tsv | wc -l \n",
    "   \n",
    "   **Total:** 368\n",
    "   \n",
    "\n",
    "- Do chicken burritos more often have black beans or pinto beans?\n",
    "   \n",
    "   **Command:** (grep \"black beans\"  -i chipotle.tsv &  grep \"chicken burrito\" -i chipotle.tsv) | wc -l\n",
    "   \n",
    "   **Total:** 1898\n",
    "   \n",
    "\n",
    "- Make a list of all of the CSV or TSV files in the GA-SEA-DAT2 repo (using a single command). You will be working on your local repo on your laptop. Think about how wildcard characters can help you with this task.\n",
    "   \n",
    "   **Command:** grep -r --include=\"*.csv\" . | grep -r --include=\"*.csv\" .\n",
    "   \n",
    "\n",
    "- Count the approximate number of occurrences of the word \"dictionary\" (regardless of case) across all files in the GA-SEA-DAT1 repo.\n",
    "   \n",
    "   **Command:** grep -ir \"dictionary\" --include=\"*.csv\" \n",
    "   \n",
    "\n",
    "\n"
   ]
  },
  {
   "cell_type": "code",
   "execution_count": null,
   "metadata": {
    "collapsed": true
   },
   "outputs": [],
   "source": []
  }
 ],
 "metadata": {
  "kernelspec": {
   "display_name": "Python 2",
   "language": "python",
   "name": "python2"
  },
  "language_info": {
   "codemirror_mode": {
    "name": "ipython",
    "version": 2
   },
   "file_extension": ".py",
   "mimetype": "text/x-python",
   "name": "python",
   "nbconvert_exporter": "python",
   "pygments_lexer": "ipython2",
   "version": "2.7.11"
  }
 },
 "nbformat": 4,
 "nbformat_minor": 0
}
